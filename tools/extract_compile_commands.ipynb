{
 "cells": [
  {
   "cell_type": "code",
   "execution_count": 2,
   "metadata": {},
   "outputs": [],
   "source": [
    "import os\n",
    "import os.path\n",
    "import json\n",
    "import shutil\n",
    "import glob"
   ]
  },
  {
   "cell_type": "code",
   "execution_count": 16,
   "metadata": {},
   "outputs": [
    {
     "name": "stdout",
     "output_type": "stream",
     "text": [
      "488\n",
      "{\n",
      "    \"directory\": \"/home/fba_code/abseil-20220623.1/static/CMakeFiles/3.28.3/CompilerIdCXX\",\n",
      "    \"file\": \"CMakeCXXCompilerId.cpp\",\n",
      "    \"arguments\": [\n",
      "        \"/usr/bin/clang++\",\n",
      "        \"-Qunused-arguments\",\n",
      "        \"-emit-ast\",\n",
      "        \"-g\",\n",
      "        \"-O2\",\n",
      "        \"-ffile-prefix-map=/home/fba_code/abseil-20220623.1=.\",\n",
      "        \"-fstack-protector-strong\",\n",
      "        \"-Wformat\",\n",
      "        \"-Werror=format-security\",\n",
      "        \"-Wdate-time\",\n",
      "        \"-D_FORTIFY_SOURCE=2\"\n",
      "    ],\n",
      "    \"output\": \"/home/fba_code/compiler_output/AST/static/CMakeFiles/3.28.3/CompilerIdCXX/CMakeCXXCompilerId.ast\"\n",
      "}\n"
     ]
    }
   ],
   "source": [
    "def save_compile_commands():\n",
    "    with open(\"emit-ast.log\", \"r\") as fin:\n",
    "        content = fin.read().strip()\n",
    "\n",
    "    lines = content.split(\"\\n\")\n",
    "    lines = [x.strip() for x in lines]\n",
    "\n",
    "    print(len(lines))\n",
    "\n",
    "    compile_commands = []\n",
    "    for i in range(0, len(lines), 2):\n",
    "        current_command = dict()\n",
    "        print\n",
    "        current_command[\"directory\"] = lines[i + 1]\n",
    "        current_command[\"file\"] = lines[i].split()[-1]\n",
    "        current_command[\"arguments\"] = lines[i].split()[:-1]\n",
    "\n",
    "        ast_basename = '.'.join(current_command[\"file\"].split('.')[:-1]) + '.ast'\n",
    "        output_file_path = os.path.abspath(os.path.join(current_command[\"directory\"], ast_basename))\n",
    "        output_file_path = '/home/fba_code/compiler_output/AST/' + '/'.join(output_file_path.split('/')[4:])\n",
    "\n",
    "        current_command[\"output\"] = output_file_path\n",
    "        compile_commands.append(current_command)\n",
    "\n",
    "    print(json.dumps(compile_commands[0], indent = 4))\n",
    "    # with open(\"example_compile_commands.json\", \"w\") as fout:\n",
    "    #     json.dump(compile_commands, fout, indent=4)\n",
    "\n",
    "save_compile_commands()"
   ]
  },
  {
   "cell_type": "code",
   "execution_count": 17,
   "metadata": {},
   "outputs": [
    {
     "name": "stdout",
     "output_type": "stream",
     "text": [
      "{'directory': '/home/cdragancea/MastersThesis/test-compile-commands', 'file': 'test.cpp', 'output': '/home/cdragancea/MastersThesis/compile-commands-output/test_big.ast', 'arguments': ['/home/cdragancea/MastersThesis/llvm-project/build/bin/clang-17', '-xc++', 'test.cpp', '-o', '/home/cdragancea/MastersThesis/compile-commands-output/test_big.ast', '-emit-ast', '-c', '-Wall', '-Wextra', '--target=x86_64-unknown-linux-gnu']}\n"
     ]
    }
   ],
   "source": [
    "def save_compile_commands2():\n",
    "    with open(\"compile_commands.log\", \"r\") as fin:\n",
    "        lines = fin.read().strip().split('\\n')\n",
    "    \n",
    "    # remove the , on the last line\n",
    "    lines[-1] = lines[-1][:-1]\n",
    "\n",
    "    json_str = '[' + '\\n'.join(lines) + ']'\n",
    "    lol_obj = json.loads(json_str)\n",
    "\n",
    "    print(lol_obj[0])\n",
    "\n",
    "save_compile_commands2()"
   ]
  },
  {
   "cell_type": "code",
   "execution_count": 3,
   "metadata": {},
   "outputs": [
    {
     "name": "stdout",
     "output_type": "stream",
     "text": [
      "/usr/lib/llvm-18/bin/clang -xc++ /home/fba_code/abseil-20220623.1/static/CMakeFiles/3.28.3/CompilerIdCXX/CMakeCXXCompilerId.cpp -o /home/fba_code/abseil-20220623.1/static/CMakeFiles/3.28.3/CompilerIdCXX/CMakeCXXCompilerId.ast --driver-mode=g++ -Qunused-arguments -emit-ast -g -O2 -ffile-prefix-map=/home/fba_code/abseil-20220623.1=. -fstack-protector-strong -Wformat -Werror=format-security -Wdate-time -D _FORTIFY_SOURCE=2 --target=x86_64-pc-linux-gnu\n"
     ]
    }
   ],
   "source": [
    "obj = {\n",
    "        \"directory\": \"/home/fba_code/abseil-20220623.1/static/CMakeFiles/3.28.3/CompilerIdCXX\",\n",
    "        \"file\": \"CMakeCXXCompilerId.cpp\",\n",
    "        \"output\": \"CMakeCXXCompilerId.ast\",\n",
    "        \"arguments\": [\n",
    "            \"/usr/lib/llvm-18/bin/clang\",\n",
    "            \"-xc++\",\n",
    "            \"CMakeCXXCompilerId.cpp\",\n",
    "            \"-o\",\n",
    "            \"CMakeCXXCompilerId.ast\",\n",
    "            \"--driver-mode=g++\",\n",
    "            \"-Qunused-arguments\",\n",
    "            \"-emit-ast\",\n",
    "            \"-g\",\n",
    "            \"-O2\",\n",
    "            \"-ffile-prefix-map=/home/fba_code/abseil-20220623.1=.\",\n",
    "            \"-fstack-protector-strong\",\n",
    "            \"-Wformat\",\n",
    "            \"-Werror=format-security\",\n",
    "            \"-Wdate-time\",\n",
    "            \"-D\",\n",
    "            \"_FORTIFY_SOURCE=2\",\n",
    "            \"--target=x86_64-pc-linux-gnu\"\n",
    "        ]\n",
    "    }\n",
    "\n",
    "command = \"\"\n",
    "for arg in obj[\"arguments\"]:\n",
    "    if arg == obj[\"file\"]:\n",
    "        command += obj[\"directory\"] + '/' + obj[\"file\"] + ' '\n",
    "    elif arg == obj[\"output\"]:\n",
    "        command += obj[\"directory\"] + '/' + obj[\"output\"] + ' '\n",
    "    else:\n",
    "        command += arg + ' '\n",
    "\n",
    "command = command.strip()\n",
    "print(command)"
   ]
  },
  {
   "cell_type": "code",
   "execution_count": 4,
   "metadata": {},
   "outputs": [
    {
     "name": "stdout",
     "output_type": "stream",
     "text": [
      "['/a/b/c\\nclang++ lol', '/a/b/c/d\\nclang++ lol2', '/a/b']\n"
     ]
    }
   ],
   "source": [
    "header_log_example = \\\n",
    "\"\"\"\n",
    "/a/b/c\n",
    "clang++ lol\n",
    "\n",
    "/a/b/c/d\n",
    "clang++ lol2\n",
    "\n",
    "/a/b\n",
    "\n",
    "\"\"\"\n",
    "\n",
    "header_log_example = header_log_example.strip()\n",
    "header_log_example = header_log_example.split('\\n\\n')\n",
    "print(header_log_example)"
   ]
  },
  {
   "cell_type": "code",
   "execution_count": 6,
   "metadata": {},
   "outputs": [],
   "source": [
    "with open(\"source-files.log\", \"w\") as fout:\n",
    "    for file in glob.glob(\"/home/cdragancea/MastersThesis/FBACode/build-ffmpeg/ffmpeg/source-files-*.log\"):\n",
    "        # print(file)\n",
    "        with open(file, \"r\") as fin:\n",
    "            content = fin.read().strip()\n",
    "            fout.write(content + '\\n')"
   ]
  },
  {
   "cell_type": "code",
   "execution_count": null,
   "metadata": {},
   "outputs": [],
   "source": []
  }
 ],
 "metadata": {
  "kernelspec": {
   "display_name": "fbacode-virtualenv",
   "language": "python",
   "name": "python3"
  },
  "language_info": {
   "codemirror_mode": {
    "name": "ipython",
    "version": 3
   },
   "file_extension": ".py",
   "mimetype": "text/x-python",
   "name": "python",
   "nbconvert_exporter": "python",
   "pygments_lexer": "ipython3",
   "version": "3.9.2"
  }
 },
 "nbformat": 4,
 "nbformat_minor": 2
}
